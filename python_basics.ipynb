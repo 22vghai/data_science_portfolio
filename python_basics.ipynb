{
  "nbformat": 4,
  "nbformat_minor": 0,
  "metadata": {
    "colab": {
      "provenance": []
    },
    "kernelspec": {
      "name": "python3",
      "display_name": "Python 3"
    },
    "language_info": {
      "name": "python"
    }
  },
  "cells": [
    {
      "cell_type": "code",
      "execution_count": 3,
      "metadata": {
        "id": "nM71KbicZsBA"
      },
      "outputs": [],
      "source": [
        "#python first class - variables and Data Types\n",
        "\n",
        "name = \"John\"\n",
        "age = 23\n",
        "height = 5.9\n",
        "is_Student = True"
      ]
    },
    {
      "cell_type": "code",
      "source": [
        "print(type(age))"
      ],
      "metadata": {
        "colab": {
          "base_uri": "https://localhost:8080/"
        },
        "id": "SZ3t1tTkZ_ea",
        "outputId": "acae004a-8ec8-41a7-928c-3609153ca406"
      },
      "execution_count": 11,
      "outputs": [
        {
          "output_type": "stream",
          "name": "stdout",
          "text": [
            "<class 'int'>\n"
          ]
        }
      ]
    },
    {
      "cell_type": "code",
      "source": [
        "#lists and loops\n",
        "\n",
        "colors = [\"red\", 'blue', 'green']\n",
        "\n",
        "for color in colors:\n",
        "  print(color.title())"
      ],
      "metadata": {
        "colab": {
          "base_uri": "https://localhost:8080/"
        },
        "id": "XqBvao5caagR",
        "outputId": "4cd658b5-1a4a-4ab1-f219-60cd99986b17"
      },
      "execution_count": 7,
      "outputs": [
        {
          "output_type": "stream",
          "name": "stdout",
          "text": [
            "Red\n",
            "Blue\n",
            "Green\n"
          ]
        }
      ]
    },
    {
      "cell_type": "code",
      "source": [
        "#functions\n",
        "\n",
        "def greet(name):\n",
        "  return f\"Hi {name}! Welcome to Data Science\"\n",
        "\n"
      ],
      "metadata": {
        "id": "MQm-gdYia8Hr"
      },
      "execution_count": 8,
      "outputs": []
    },
    {
      "cell_type": "code",
      "source": [
        "greet(\"Vinayak\")"
      ],
      "metadata": {
        "colab": {
          "base_uri": "https://localhost:8080/",
          "height": 35
        },
        "id": "VqWcnHCUbLY-",
        "outputId": "4d3ad372-115c-4d15-a492-8d32a46a5bd8"
      },
      "execution_count": 9,
      "outputs": [
        {
          "output_type": "execute_result",
          "data": {
            "text/plain": [
              "'Hi Vinayak! Welcome to Data Science'"
            ],
            "application/vnd.google.colaboratory.intrinsic+json": {
              "type": "string"
            }
          },
          "metadata": {},
          "execution_count": 9
        }
      ]
    },
    {
      "cell_type": "code",
      "source": [
        "#conditionals\n",
        "\n",
        "if age >= 18:\n",
        "  print(\"You are an adult\")\n",
        "else:\n",
        "  print(\"You are a minor\")"
      ],
      "metadata": {
        "colab": {
          "base_uri": "https://localhost:8080/"
        },
        "id": "6N7TWSQabkDD",
        "outputId": "b1abb65d-1ace-4f41-fa1c-b410a579cb07"
      },
      "execution_count": 10,
      "outputs": [
        {
          "output_type": "stream",
          "name": "stdout",
          "text": [
            "You are an adult\n"
          ]
        }
      ]
    },
    {
      "cell_type": "code",
      "source": [
        "#List Comprehension\n",
        "\n",
        "squares = [x**2 for x in range(6)]\n",
        "print(squares)"
      ],
      "metadata": {
        "colab": {
          "base_uri": "https://localhost:8080/"
        },
        "id": "8zB16Y6xcEIR",
        "outputId": "0ee49f05-2fb9-4f64-d2e4-38b1b244b4da"
      },
      "execution_count": 13,
      "outputs": [
        {
          "output_type": "stream",
          "name": "stdout",
          "text": [
            "[0, 1, 4, 9, 16, 25]\n"
          ]
        }
      ]
    },
    {
      "cell_type": "code",
      "source": [
        "#string reversal\n",
        "\n",
        "\"hello\"[::-1]"
      ],
      "metadata": {
        "colab": {
          "base_uri": "https://localhost:8080/",
          "height": 35
        },
        "id": "xe2LsekHcVoe",
        "outputId": "37105f9d-ba5d-4d3b-9ed0-a7da3a803fba"
      },
      "execution_count": 15,
      "outputs": [
        {
          "output_type": "execute_result",
          "data": {
            "text/plain": [
              "'olleh'"
            ],
            "application/vnd.google.colaboratory.intrinsic+json": {
              "type": "string"
            }
          },
          "metadata": {},
          "execution_count": 15
        }
      ]
    },
    {
      "cell_type": "code",
      "source": [
        "items = [\"apples\", \"banana\", \"orange\", \"mango\", \"grape\"]\n",
        "\n",
        "for item in items:\n",
        "  print(item.upper())"
      ],
      "metadata": {
        "colab": {
          "base_uri": "https://localhost:8080/"
        },
        "id": "clkHzZmHc6C8",
        "outputId": "c0f5d965-a416-4f97-e93b-a9c55632c1f2"
      },
      "execution_count": 17,
      "outputs": [
        {
          "output_type": "stream",
          "name": "stdout",
          "text": [
            "APPLES\n",
            "BANANA\n",
            "ORANGE\n",
            "MANGO\n",
            "GRAPE\n"
          ]
        }
      ]
    },
    {
      "cell_type": "code",
      "source": [
        "def voting_eligibility(name, age):\n",
        "  if(age>=18):\n",
        "    return (f\"Hello {name}, you are elgible to vote\")\n",
        "  else:\n",
        "    return (f\"Hello {name}, you are not elgible to vote\")\n",
        "\n",
        "voting_eligibility(\"Vinayak\", 14)"
      ],
      "metadata": {
        "colab": {
          "base_uri": "https://localhost:8080/",
          "height": 35
        },
        "id": "4ULmuW3SdRzV",
        "outputId": "86d47ed4-553e-450d-e206-daca1e74cedf"
      },
      "execution_count": 20,
      "outputs": [
        {
          "output_type": "execute_result",
          "data": {
            "text/plain": [
              "'Hello Vinayak, you are not elgible to vote'"
            ],
            "application/vnd.google.colaboratory.intrinsic+json": {
              "type": "string"
            }
          },
          "metadata": {},
          "execution_count": 20
        }
      ]
    },
    {
      "cell_type": "code",
      "source": [
        "def isEven(number):\n",
        "  if (number%2 == 0):\n",
        "    return (f\"{number} is even\")\n",
        "  else:\n",
        "    return (f\"{number} is odd\")\n",
        "\n",
        "isEven(23)"
      ],
      "metadata": {
        "colab": {
          "base_uri": "https://localhost:8080/",
          "height": 35
        },
        "id": "HXdHcR3ddy8K",
        "outputId": "89f979d1-a446-4036-b7f0-55163c1ec2be"
      },
      "execution_count": 22,
      "outputs": [
        {
          "output_type": "execute_result",
          "data": {
            "text/plain": [
              "'23 is odd'"
            ],
            "application/vnd.google.colaboratory.intrinsic+json": {
              "type": "string"
            }
          },
          "metadata": {},
          "execution_count": 22
        }
      ]
    },
    {
      "cell_type": "code",
      "source": [
        "numbers = list(range(1, 11))\n",
        "\n",
        "cubes = [x**3 for x in numbers]\n",
        "\n",
        "print(cubes)"
      ],
      "metadata": {
        "colab": {
          "base_uri": "https://localhost:8080/"
        },
        "id": "xBDBq3umeUMd",
        "outputId": "4eca7929-f33e-4dd5-f4fd-6e457074de5b"
      },
      "execution_count": 23,
      "outputs": [
        {
          "output_type": "stream",
          "name": "stdout",
          "text": [
            "[1, 8, 27, 64, 125, 216, 343, 512, 729, 1000]\n"
          ]
        }
      ]
    }
  ]
}