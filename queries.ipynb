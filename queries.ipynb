{
 "cells": [
  {
   "cell_type": "code",
   "execution_count": 1,
   "id": "864a2d5b",
   "metadata": {},
   "outputs": [],
   "source": [
    "import sqlite3"
   ]
  },
  {
   "cell_type": "code",
   "execution_count": null,
   "id": "29d37d23",
   "metadata": {},
   "outputs": [],
   "source": [
    "conn = sqlite3.connect(\"chinook.db\")"
   ]
  },
  {
   "cell_type": "code",
   "execution_count": 8,
   "id": "95feca11",
   "metadata": {},
   "outputs": [],
   "source": [
    "cursor = conn.cursor()"
   ]
  },
  {
   "cell_type": "code",
   "execution_count": 9,
   "id": "7528d995",
   "metadata": {},
   "outputs": [
    {
     "name": "stdout",
     "output_type": "stream",
     "text": [
      "('Argentina', 1)\n",
      "('Australia', 1)\n",
      "('Austria', 1)\n",
      "('Belgium', 1)\n",
      "('Brazil', 5)\n",
      "('Canada', 8)\n",
      "('Chile', 1)\n",
      "('Czech Republic', 2)\n",
      "('Denmark', 1)\n",
      "('Finland', 1)\n",
      "('France', 5)\n",
      "('Germany', 4)\n",
      "('Hungary', 1)\n",
      "('India', 2)\n",
      "('Ireland', 1)\n",
      "('Italy', 1)\n",
      "('Netherlands', 1)\n",
      "('Norway', 1)\n",
      "('Poland', 1)\n",
      "('Portugal', 2)\n",
      "('Spain', 1)\n",
      "('Sweden', 1)\n",
      "('USA', 13)\n",
      "('United Kingdom', 3)\n"
     ]
    }
   ],
   "source": [
    "cursor.execute(\"SELECT country, COUNT(*) FROM Customer GROUP BY country\")\n",
    "for row in cursor.fetchall():\n",
    "    print(row)"
   ]
  },
  {
   "cell_type": "code",
   "execution_count": 10,
   "id": "3ef6aa48",
   "metadata": {},
   "outputs": [
    {
     "name": "stdout",
     "output_type": "stream",
     "text": [
      "('Frank', 'USA')\n",
      "('Jack', 'USA')\n",
      "('Michelle', 'USA')\n",
      "('Tim', 'USA')\n",
      "('Dan', 'USA')\n",
      "('Kathy', 'USA')\n",
      "('Heather', 'USA')\n",
      "('John', 'USA')\n",
      "('Frank', 'USA')\n",
      "('Victor', 'USA')\n"
     ]
    }
   ],
   "source": [
    "cursor.execute(\"SELECT FirstName, country FROM Customer WHERE country = 'USA' LIMIT 10\")\n",
    "for row in cursor.fetchall():\n",
    "    print(row)  "
   ]
  },
  {
   "cell_type": "code",
   "execution_count": 12,
   "id": "479e0cc1",
   "metadata": {},
   "outputs": [
    {
     "name": "stdout",
     "output_type": "stream",
     "text": [
      "(404, 6, '2013-11-13 00:00:00', 'Rilská 3174/6', 'Prague', None, 'Czech Republic', '14300', 25.86)\n",
      "(299, 26, '2012-08-05 00:00:00', '2211 W Berry Street', 'Fort Worth', 'TX', 'USA', '76110', 23.86)\n",
      "(96, 45, '2010-02-18 00:00:00', 'Erzsébet krt. 58.', 'Budapest', None, 'Hungary', 'H-1073', 21.86)\n",
      "(194, 46, '2011-04-28 00:00:00', '3 Chatham Street', 'Dublin', 'Dublin', 'Ireland', None, 21.86)\n",
      "(89, 7, '2010-01-18 00:00:00', 'Rotenturmstraße 4, 1010 Innere Stadt', 'Vienne', None, 'Austria', '1010', 18.86)\n"
     ]
    }
   ],
   "source": [
    "cursor.execute(\"SELECT * FROM Invoice ORDER BY total DESC LIMIT 5\")\n",
    "for row in cursor.fetchall():\n",
    "    print(row)  "
   ]
  },
  {
   "cell_type": "code",
   "execution_count": 13,
   "id": "6c1e4203",
   "metadata": {},
   "outputs": [
    {
     "name": "stdout",
     "output_type": "stream",
     "text": [
      "('Luís', 'Gonçalves')\n",
      "('Leonie', 'Köhler')\n",
      "('François', 'Tremblay')\n",
      "('Bjørn', 'Hansen')\n",
      "('František', 'Wichterlová')\n"
     ]
    }
   ],
   "source": [
    "cursor.execute(\"SELECT FirstName, LastName FROM Customer LIMIT 5\")\n",
    "for row in cursor.fetchall():\n",
    "    print(row)"
   ]
  },
  {
   "cell_type": "code",
   "execution_count": 14,
   "id": "0313c4b0",
   "metadata": {},
   "outputs": [
    {
     "name": "stdout",
     "output_type": "stream",
     "text": [
      "('Argentina', 1)\n",
      "('Australia', 1)\n",
      "('Austria', 1)\n",
      "('Belgium', 1)\n",
      "('Brazil', 5)\n",
      "('Canada', 8)\n",
      "('Chile', 1)\n",
      "('Czech Republic', 2)\n",
      "('Denmark', 1)\n",
      "('Finland', 1)\n",
      "('France', 5)\n",
      "('Germany', 4)\n",
      "('Hungary', 1)\n",
      "('India', 2)\n",
      "('Ireland', 1)\n",
      "('Italy', 1)\n",
      "('Netherlands', 1)\n",
      "('Norway', 1)\n",
      "('Poland', 1)\n",
      "('Portugal', 2)\n",
      "('Spain', 1)\n",
      "('Sweden', 1)\n",
      "('USA', 13)\n",
      "('United Kingdom', 3)\n"
     ]
    }
   ],
   "source": [
    "cursor.execute(\"SELECT Country, COUNT(*) FROM Customer GROUP BY Country\") \n",
    "for row in cursor.fetchall():\n",
    "    print(row)"
   ]
  },
  {
   "cell_type": "code",
   "execution_count": 15,
   "id": "1fe4313c",
   "metadata": {},
   "outputs": [],
   "source": [
    "conn.close()"
   ]
  },
  {
   "cell_type": "code",
   "execution_count": null,
   "id": "0b07e107",
   "metadata": {},
   "outputs": [],
   "source": []
  }
 ],
 "metadata": {
  "kernelspec": {
   "display_name": "Python 3",
   "language": "python",
   "name": "python3"
  },
  "language_info": {
   "codemirror_mode": {
    "name": "ipython",
    "version": 3
   },
   "file_extension": ".py",
   "mimetype": "text/x-python",
   "name": "python",
   "nbconvert_exporter": "python",
   "pygments_lexer": "ipython3",
   "version": "3.11.3"
  }
 },
 "nbformat": 4,
 "nbformat_minor": 5
}
